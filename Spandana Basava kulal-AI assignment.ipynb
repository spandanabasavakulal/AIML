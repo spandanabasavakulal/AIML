{
 "cells": [
  {
   "cell_type": "code",
   "execution_count": 9,
   "id": "95f8bf63-0a5c-40a6-8f7d-0d85d6029edf",
   "metadata": {},
   "outputs": [
    {
     "name": "stdout",
     "output_type": "stream",
     "text": [
      "Name: Alice, Age: 20, Height: 5.9, Student: True\n"
     ]
    }
   ],
   "source": [
    "name = \"Alice\"  #string\n",
    "age = 20        # integer\n",
    "height = 5.9    # float\n",
    "is_student = True # boolean\n",
    "\n",
    "print(f\"Name: {name}, Age: {age}, Height: {height}, Student: {is_student}\")\n"
   ]
  },
  {
   "cell_type": "code",
   "execution_count": 15,
   "id": "3bdd9836-bc41-4812-9a5e-0c411ceace4a",
   "metadata": {},
   "outputs": [
    {
     "name": "stdin",
     "output_type": "stream",
     "text": [
      "Enter a number:  5\n"
     ]
    },
    {
     "name": "stdout",
     "output_type": "stream",
     "text": [
      "The number is positive.\n"
     ]
    }
   ],
   "source": [
    "num = int(input(\"Enter a number: \"))\n",
    "if num > 0:\n",
    "    print(\"The number is positive.\")\n",
    "elif num < 0:\n",
    "    print(\"The number is negative.\")\n",
    "else:\n",
    "    print(\"The number is zero.\")\n"
   ]
  },
  {
   "cell_type": "code",
   "execution_count": 17,
   "id": "cc13b4a3-b003-488d-b3a3-1c7ccd6feed9",
   "metadata": {},
   "outputs": [
    {
     "name": "stdin",
     "output_type": "stream",
     "text": [
      "Enter a number:  2\n"
     ]
    },
    {
     "name": "stdout",
     "output_type": "stream",
     "text": [
      "2 x 1 = 2\n",
      "2 x 2 = 4\n",
      "2 x 3 = 6\n",
      "2 x 4 = 8\n",
      "2 x 5 = 10\n",
      "2 x 6 = 12\n",
      "2 x 7 = 14\n",
      "2 x 8 = 16\n",
      "2 x 9 = 18\n",
      "2 x 10 = 20\n"
     ]
    }
   ],
   "source": [
    "num = int(input(\"Enter a number: \"))\n",
    "for i in range(1, 11):\n",
    "    print(f\"{num} x {i} = {num * i}\")\n"
   ]
  },
  {
   "cell_type": "code",
   "execution_count": 19,
   "id": "4e027734-6319-4519-8833-ce845ca40af5",
   "metadata": {},
   "outputs": [
    {
     "name": "stdout",
     "output_type": "stream",
     "text": [
      "Fruit list: ['Apple', 'Banana', 'Mango', 'Orange', 'Grapes']\n",
      "After adding a fruit: ['Apple', 'Banana', 'Mango', 'Orange', 'Grapes', 'Pineapple']\n",
      "After removing a fruit: ['Apple', 'Mango', 'Orange', 'Grapes', 'Pineapple']\n",
      "Third fruit: Orange\n",
      "Sorted list: ['Apple', 'Grapes', 'Mango', 'Orange', 'Pineapple']\n"
     ]
    }
   ],
   "source": [
    "fruits = [\"Apple\", \"Banana\", \"Mango\", \"Orange\", \"Grapes\"]\n",
    "print(\"Fruit list:\", fruits)\n",
    "fruits.append(\"Pineapple\")\n",
    "print(\"After adding a fruit:\", fruits)\n",
    "fruits.remove(\"Banana\")\n",
    "print(\"After removing a fruit:\", fruits)\n",
    "print(\"Third fruit:\", fruits[2])\n",
    "fruits.sort()\n",
    "print(\"Sorted list:\", fruits)\n"
   ]
  },
  {
   "cell_type": "code",
   "execution_count": 21,
   "id": "ac447d28-c862-42f5-bb4f-cd4a8c3dc38b",
   "metadata": {},
   "outputs": [
    {
     "name": "stdout",
     "output_type": "stream",
     "text": [
      "Original tuple: (10, 20, 30, 40, 50)\n",
      "Second number: 20\n",
      "30 is in the tuple.\n",
      "Length of tuple: 5\n",
      "Tuple after adding a number (converted to list): [10, 20, 30, 40, 50, 60]\n"
     ]
    }
   ],
   "source": [
    "numbers = (10, 20, 30, 40, 50)\n",
    "print(\"Original tuple:\", numbers)\n",
    "print(\"Second number:\", numbers[1])\n",
    "if 30 in numbers:\n",
    "    print(\"30 is in the tuple.\")\n",
    "else:\n",
    "    print(\"30 is not in the tuple.\")\n",
    "print(\"Length of tuple:\", len(numbers))\n",
    "numbers_list = list(numbers)\n",
    "numbers_list.append(60)\n",
    "print(\"Tuple after adding a number (converted to list):\", numbers_list)\n"
   ]
  },
  {
   "cell_type": "code",
   "execution_count": 23,
   "id": "d13abfbe-cc99-4aef-9295-e918f800d180",
   "metadata": {},
   "outputs": [
    {
     "name": "stdout",
     "output_type": "stream",
     "text": [
      "Student marks: {'Alice': 85, 'Bob': 90, 'Charlie': 78}\n",
      "Marks of Bob: 90\n",
      "After adding a new student: {'Alice': 85, 'Bob': 90, 'Charlie': 78, 'David': 88}\n",
      "After updating Alice's marks: {'Alice': 95, 'Bob': 90, 'Charlie': 78, 'David': 88}\n",
      "After removing Charlie: {'Alice': 95, 'Bob': 90, 'David': 88}\n",
      "Bob's marks are available.\n"
     ]
    }
   ],
   "source": [
    "students_marks = {\n",
    "    \"Alice\": 85,\n",
    "    \"Bob\": 90,\n",
    "    \"Charlie\": 78\n",
    "}\n",
    "print(\"Student marks:\", students_marks)\n",
    "print(\"Marks of Bob:\", students_marks[\"Bob\"])\n",
    "students_marks[\"David\"] = 88\n",
    "print(\"After adding a new student:\", students_marks)\n",
    "students_marks[\"Alice\"] = 95\n",
    "print(\"After updating Alice's marks:\", students_marks)\n",
    "del students_marks[\"Charlie\"]\n",
    "print(\"After removing Charlie:\", students_marks)\n",
    "if \"Bob\" in students_marks:\n",
    "    print(\"Bob's marks are available.\")\n",
    "else:\n",
    "    print(\"Bob is not in the dictionary.\")\n"
   ]
  },
  {
   "cell_type": "code",
   "execution_count": 25,
   "id": "0992fa9d-d76f-43b1-9762-b6cb44cba0a9",
   "metadata": {},
   "outputs": [
    {
     "name": "stdout",
     "output_type": "stream",
     "text": [
      "Union: {1, 2, 3, 4, 5, 6, 7, 8}\n",
      "Intersection: {4, 5}\n",
      "Difference: {1, 2, 3}\n",
      "Symmetric Difference: {1, 2, 3, 6, 7, 8}\n"
     ]
    }
   ],
   "source": [
    "set1 = {1, 2, 3, 4, 5}\n",
    "set2 = {4, 5, 6, 7, 8}\n",
    "print(\"Union:\", set1 | set2)\n",
    "print(\"Intersection:\", set1 & set2)\n",
    "print(\"Difference:\", set1 - set2)\n",
    "print(\"Symmetric Difference:\", set1 ^ set2)\n"
   ]
  },
  {
   "cell_type": "code",
   "execution_count": 27,
   "id": "a592adb9-aa39-4e90-a406-7feae6fb2664",
   "metadata": {},
   "outputs": [
    {
     "name": "stdout",
     "output_type": "stream",
     "text": [
      "The largest number is: 45\n"
     ]
    }
   ],
   "source": [
    "def find_largest(numbers):\n",
    "    return max(numbers)\n",
    "sample_list = [10, 25, 3, 45, 7]\n",
    "largest_number = find_largest(sample_list)\n",
    "print(\"The largest number is:\", largest_number)\n"
   ]
  },
  {
   "cell_type": "code",
   "execution_count": 29,
   "id": "3efd9c54-1029-4b64-adec-79843141fec5",
   "metadata": {},
   "outputs": [
    {
     "name": "stdout",
     "output_type": "stream",
     "text": [
      "[4, 16, 36, 64, 100, 144, 196, 256, 324, 400]\n"
     ]
    }
   ],
   "source": [
    "squares_of_even_numbers = [x**2 for x in range(1, 21) if x % 2 == 0]\n",
    "print(squares_of_even_numbers)\n"
   ]
  },
  {
   "cell_type": "code",
   "execution_count": 31,
   "id": "de003d21-eb19-4aa7-838a-ba4b3c20f740",
   "metadata": {},
   "outputs": [
    {
     "name": "stdin",
     "output_type": "stream",
     "text": [
      "Enter the first number:  4\n",
      "Enter the second number:  6\n"
     ]
    },
    {
     "name": "stdout",
     "output_type": "stream",
     "text": [
      "The product of 4.0 and 6.0 is: 24.0\n"
     ]
    }
   ],
   "source": [
    "product = lambda x, y: x * y\n",
    "num1 = float(input(\"Enter the first number: \"))\n",
    "num2 = float(input(\"Enter the second number: \"))\n",
    "result = product(num1, num2)\n",
    "print(f\"The product of {num1} and {num2} is: {result}\")\n"
   ]
  },
  {
   "cell_type": "code",
   "execution_count": 35,
   "id": "c8350b3b-7029-4305-ab6c-0c338b5c676d",
   "metadata": {},
   "outputs": [
    {
     "name": "stdout",
     "output_type": "stream",
     "text": [
      "1D Array:\n",
      "[1 2 3 4 5]\n",
      "Shape: (5,)\n",
      "Dimensions: 1\n",
      "\n",
      "2D Array:\n",
      "[[1 2 3]\n",
      " [4 5 6]]\n",
      "Shape: (2, 3)\n",
      "Dimensions: 2\n",
      "\n",
      "3D Array:\n",
      "[[[1 2]\n",
      "  [3 4]]\n",
      "\n",
      " [[5 6]\n",
      "  [7 8]]]\n",
      "Shape: (2, 2, 2)\n",
      "Dimensions: 3\n"
     ]
    }
   ],
   "source": [
    "import numpy as np\n",
    "#Create a one-dimensional NumPy array\n",
    "array_1d = np.array([1, 2, 3, 4, 5])\n",
    "print(\"1D Array:\")\n",
    "print(array_1d)\n",
    "print(\"Shape:\", array_1d.shape)\n",
    "print(\"Dimensions:\", array_1d.ndim)\n",
    "\n",
    "#Create a two-dimensional NumPy array\n",
    "array_2d = np.array([[1, 2, 3], [4, 5, 6]])\n",
    "print(\"\\n2D Array:\")\n",
    "print(array_2d)\n",
    "print(\"Shape:\", array_2d.shape)\n",
    "print(\"Dimensions:\", array_2d.ndim)\n",
    "\n",
    "#Create a three-dimensional NumPy array\n",
    "array_3d = np.array([[[1, 2], [3, 4]], [[5, 6], [7, 8]]])\n",
    "print(\"\\n3D Array:\")\n",
    "print(array_3d)\n",
    "print(\"Shape:\", array_3d.shape)\n",
    "print(\"Dimensions:\", array_3d.ndim)\n"
   ]
  },
  {
   "cell_type": "code",
   "execution_count": 37,
   "id": "df3f1023-2a14-4464-b148-992870cb554c",
   "metadata": {},
   "outputs": [
    {
     "name": "stdout",
     "output_type": "stream",
     "text": [
      "5x5 Array of random integers:\n",
      "[[6 5 3 5 8]\n",
      " [1 8 6 0 0]\n",
      " [3 6 6 8 3]\n",
      " [7 6 9 7 4]\n",
      " [7 7 8 1 2]]\n",
      "\n",
      "Element at (0, 0): 6\n",
      "\n",
      "Second row: [1 8 6 0 0]\n",
      "\n",
      "Third column: [3 6 6 9 8]\n",
      "\n",
      "2x2 Sub-array from rows 1 to 2 and columns 1 to 2:\n",
      "[[8 6]\n",
      " [6 6]]\n"
     ]
    }
   ],
   "source": [
    "import numpy as np\n",
    "array = np.random.randint(0, 10, size=(5, 5))\n",
    "print(\"5x5 Array of random integers:\")\n",
    "print(array)\n",
    "element_1 = array[0, 0]\n",
    "print(\"\\nElement at (0, 0):\", element_1)\n",
    "row_2 = array[1, :]\n",
    "print(\"\\nSecond row:\", row_2)\n",
    "col_3 = array[:, 2]\n",
    "print(\"\\nThird column:\", col_3)\n",
    "sub_array = array[1:3, 1:3]\n",
    "print(\"\\n2x2 Sub-array from rows 1 to 2 and columns 1 to 2:\")\n",
    "print(sub_array)\n"
   ]
  },
  {
   "cell_type": "code",
   "execution_count": 39,
   "id": "0f025940-4fba-4006-8acd-5db1ce22a615",
   "metadata": {},
   "outputs": [
    {
     "name": "stdout",
     "output_type": "stream",
     "text": [
      "4x4 Array of numbers from 1 to 16:\n",
      "[[ 1  2  3  4]\n",
      " [ 5  6  7  8]\n",
      " [ 9 10 11 12]\n",
      " [13 14 15 16]]\n",
      "\n",
      "First row: [1 2 3 4]\n",
      "\n",
      "Last column: [ 4  8 12 16]\n",
      "\n",
      "Sub-array (first 2 rows, first 2 columns):\n",
      "[[1 2]\n",
      " [5 6]]\n",
      "\n",
      "Sub-array (middle 2x2):\n",
      "[[ 6  7]\n",
      " [10 11]]\n"
     ]
    }
   ],
   "source": [
    "import numpy as np\n",
    "array = np.arange(1, 17).reshape(4, 4)\n",
    "print(\"4x4 Array of numbers from 1 to 16:\")\n",
    "print(array)\n",
    "first_row = array[0, :]\n",
    "print(\"\\nFirst row:\", first_row)\n",
    "last_column = array[:, -1]\n",
    "print(\"\\nLast column:\", last_column)\n",
    "sub_array_1 = array[:2, :2]\n",
    "print(\"\\nSub-array (first 2 rows, first 2 columns):\")\n",
    "print(sub_array_1)\n",
    "sub_array_2 = array[1:3, 1:3]\n",
    "print(\"\\nSub-array (middle 2x2):\")\n",
    "print(sub_array_2)\n"
   ]
  },
  {
   "cell_type": "code",
   "execution_count": 41,
   "id": "3b56d4a3-b226-4885-ae92-4991f3465bb8",
   "metadata": {},
   "outputs": [
    {
     "name": "stdout",
     "output_type": "stream",
     "text": [
      "2D Array (6, 2):\n",
      "[[ 1  2]\n",
      " [ 3  4]\n",
      " [ 5  6]\n",
      " [ 7  8]\n",
      " [ 9 10]\n",
      " [11 12]]\n",
      "\n",
      "Reshaped 3D Array (2, 3, 2):\n",
      "[[[ 1  2]\n",
      "  [ 3  4]\n",
      "  [ 5  6]]\n",
      "\n",
      " [[ 7  8]\n",
      "  [ 9 10]\n",
      "  [11 12]]]\n",
      "\n",
      "Flattened Array:\n",
      "[ 1  2  3  4  5  6  7  8  9 10 11 12]\n"
     ]
    }
   ],
   "source": [
    "import numpy as np\n",
    "array_2d = np.arange(1, 13).reshape(6, 2)\n",
    "print(\"2D Array (6, 2):\")\n",
    "print(array_2d)\n",
    "array_3d = array_2d.reshape(2, 3, 2)\n",
    "print(\"\\nReshaped 3D Array (2, 3, 2):\")\n",
    "print(array_3d)\n",
    "flattened_array = array_3d.flatten()\n",
    "print(\"\\nFlattened Array:\")\n",
    "print(flattened_array)\n"
   ]
  },
  {
   "cell_type": "code",
   "execution_count": 43,
   "id": "e5be4348-f6e6-47b7-a35c-b5feda3d0010",
   "metadata": {},
   "outputs": [
    {
     "name": "stdout",
     "output_type": "stream",
     "text": [
      "2D Array:\n",
      "[[1 2 3]\n",
      " [4 5 6]\n",
      " [7 8 9]]\n",
      "\n",
      "1D Array:\n",
      "[10 20 30]\n",
      "\n",
      "Result after broadcasting and addition:\n",
      "[[11 22 33]\n",
      " [14 25 36]\n",
      " [17 28 39]]\n"
     ]
    }
   ],
   "source": [
    "import numpy as np\n",
    "array_2d = np.array([[1, 2, 3],\n",
    "                     [4, 5, 6],\n",
    "                     [7, 8, 9]])\n",
    "array_1d = np.array([10, 20, 30])\n",
    "result = array_2d + array_1d\n",
    "print(\"2D Array:\")\n",
    "print(array_2d)\n",
    "print(\"\\n1D Array:\")\n",
    "print(array_1d)\n",
    "print(\"\\nResult after broadcasting and addition:\")\n",
    "print(result)\n"
   ]
  },
  {
   "cell_type": "code",
   "execution_count": 45,
   "id": "681da357-a16f-450f-b041-643ab1b4435e",
   "metadata": {},
   "outputs": [
    {
     "name": "stdout",
     "output_type": "stream",
     "text": [
      "Array A:\n",
      "[[1 2 3]\n",
      " [4 5 6]\n",
      " [7 8 9]]\n",
      "\n",
      "Array B:\n",
      "[[9 8 7]\n",
      " [6 5 4]\n",
      " [3 2 1]]\n",
      "\n",
      "Element-wise Addition (A + B):\n",
      "[[10 10 10]\n",
      " [10 10 10]\n",
      " [10 10 10]]\n",
      "\n",
      "Element-wise Subtraction (A - B):\n",
      "[[-8 -6 -4]\n",
      " [-2  0  2]\n",
      " [ 4  6  8]]\n",
      "\n",
      "Element-wise Multiplication (A * B):\n",
      "[[ 9 16 21]\n",
      " [24 25 24]\n",
      " [21 16  9]]\n",
      "\n",
      "Element-wise Division (A / B):\n",
      "[[0.11111111 0.25       0.42857143]\n",
      " [0.66666667 1.         1.5       ]\n",
      " [2.33333333 4.         9.        ]]\n"
     ]
    }
   ],
   "source": [
    "import numpy as np\n",
    "A = np.array([[1, 2, 3],\n",
    "              [4, 5, 6],\n",
    "              [7, 8, 9]])\n",
    "B = np.array([[9, 8, 7],\n",
    "              [6, 5, 4],\n",
    "              [3, 2, 1]])\n",
    "addition_result = A + B\n",
    "subtraction_result = A - B\n",
    "multiplication_result = A * B\n",
    "division_result = A / B\n",
    "print(\"Array A:\")\n",
    "print(A)\n",
    "print(\"\\nArray B:\")\n",
    "print(B)\n",
    "print(\"\\nElement-wise Addition (A + B):\")\n",
    "print(addition_result)\n",
    "print(\"\\nElement-wise Subtraction (A - B):\")\n",
    "print(subtraction_result)\n",
    "print(\"\\nElement-wise Multiplication (A * B):\")\n",
    "print(multiplication_result)\n",
    "print(\"\\nElement-wise Division (A / B):\")\n",
    "print(division_result)\n"
   ]
  },
  {
   "cell_type": "code",
   "execution_count": null,
   "id": "16b5ab22-182c-479d-834b-a5382c2eaef2",
   "metadata": {},
   "outputs": [],
   "source": []
  }
 ],
 "metadata": {
  "kernelspec": {
   "display_name": "Python [conda env:base] *",
   "language": "python",
   "name": "conda-base-py"
  },
  "language_info": {
   "codemirror_mode": {
    "name": "ipython",
    "version": 3
   },
   "file_extension": ".py",
   "mimetype": "text/x-python",
   "name": "python",
   "nbconvert_exporter": "python",
   "pygments_lexer": "ipython3",
   "version": "3.12.7"
  }
 },
 "nbformat": 4,
 "nbformat_minor": 5
}
